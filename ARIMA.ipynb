{
  "nbformat": 4,
  "nbformat_minor": 0,
  "metadata": {
    "colab": {
      "provenance": []
    },
    "kernelspec": {
      "name": "python3",
      "display_name": "Python 3"
    },
    "language_info": {
      "name": "python"
    }
  },
  "cells": [
    {
      "cell_type": "code",
      "execution_count": 1,
      "metadata": {
        "id": "tNrO-1eg0vGp"
      },
      "outputs": [],
      "source": [
        "import numpy as np\n",
        "import pandas as pd\n",
        "import matplotlib.pyplot as plt\n",
        "%matplotlib inline\n",
        "import warnings\n",
        "warnings.filterwarnings('ignore')"
      ]
    },
    {
      "cell_type": "code",
      "source": [
        "df=pd.read_csv(\"/content/drive/MyDrive/Pre_Processed_TSLA.csv\")"
      ],
      "metadata": {
        "id": "0u-j8utU2Q-i"
      },
      "execution_count": 2,
      "outputs": []
    },
    {
      "cell_type": "code",
      "source": [
        "df.head()"
      ],
      "metadata": {
        "colab": {
          "base_uri": "https://localhost:8080/",
          "height": 206
        },
        "id": "TOvcfv8Q2m2J",
        "outputId": "52378c30-7ec9-4102-aab4-9e7a2ff9b90f"
      },
      "execution_count": 3,
      "outputs": [
        {
          "output_type": "execute_result",
          "data": {
            "text/plain": [
              "         Date   Open   High    Low  Close  Adj. Close      Volume\n",
              "0  2015-01-02  44.57  44.65  42.65  43.86       43.86  23822000.0\n",
              "1  2015-01-05  42.91  43.30  41.43  42.02       42.02  26842500.0\n",
              "2  2015-01-06  42.01  42.84  40.84  42.26       42.26  31309500.0\n",
              "3  2015-01-07  42.67  42.96  41.96  42.19       42.19  14842000.0\n",
              "4  2015-01-08  42.56  42.76  42.00  42.12       42.12  17212500.0"
            ],
            "text/html": [
              "\n",
              "  <div id=\"df-d31dfa2d-27ef-4968-a928-3970ac0e22ac\">\n",
              "    <div class=\"colab-df-container\">\n",
              "      <div>\n",
              "<style scoped>\n",
              "    .dataframe tbody tr th:only-of-type {\n",
              "        vertical-align: middle;\n",
              "    }\n",
              "\n",
              "    .dataframe tbody tr th {\n",
              "        vertical-align: top;\n",
              "    }\n",
              "\n",
              "    .dataframe thead th {\n",
              "        text-align: right;\n",
              "    }\n",
              "</style>\n",
              "<table border=\"1\" class=\"dataframe\">\n",
              "  <thead>\n",
              "    <tr style=\"text-align: right;\">\n",
              "      <th></th>\n",
              "      <th>Date</th>\n",
              "      <th>Open</th>\n",
              "      <th>High</th>\n",
              "      <th>Low</th>\n",
              "      <th>Close</th>\n",
              "      <th>Adj. Close</th>\n",
              "      <th>Volume</th>\n",
              "    </tr>\n",
              "  </thead>\n",
              "  <tbody>\n",
              "    <tr>\n",
              "      <th>0</th>\n",
              "      <td>2015-01-02</td>\n",
              "      <td>44.57</td>\n",
              "      <td>44.65</td>\n",
              "      <td>42.65</td>\n",
              "      <td>43.86</td>\n",
              "      <td>43.86</td>\n",
              "      <td>23822000.0</td>\n",
              "    </tr>\n",
              "    <tr>\n",
              "      <th>1</th>\n",
              "      <td>2015-01-05</td>\n",
              "      <td>42.91</td>\n",
              "      <td>43.30</td>\n",
              "      <td>41.43</td>\n",
              "      <td>42.02</td>\n",
              "      <td>42.02</td>\n",
              "      <td>26842500.0</td>\n",
              "    </tr>\n",
              "    <tr>\n",
              "      <th>2</th>\n",
              "      <td>2015-01-06</td>\n",
              "      <td>42.01</td>\n",
              "      <td>42.84</td>\n",
              "      <td>40.84</td>\n",
              "      <td>42.26</td>\n",
              "      <td>42.26</td>\n",
              "      <td>31309500.0</td>\n",
              "    </tr>\n",
              "    <tr>\n",
              "      <th>3</th>\n",
              "      <td>2015-01-07</td>\n",
              "      <td>42.67</td>\n",
              "      <td>42.96</td>\n",
              "      <td>41.96</td>\n",
              "      <td>42.19</td>\n",
              "      <td>42.19</td>\n",
              "      <td>14842000.0</td>\n",
              "    </tr>\n",
              "    <tr>\n",
              "      <th>4</th>\n",
              "      <td>2015-01-08</td>\n",
              "      <td>42.56</td>\n",
              "      <td>42.76</td>\n",
              "      <td>42.00</td>\n",
              "      <td>42.12</td>\n",
              "      <td>42.12</td>\n",
              "      <td>17212500.0</td>\n",
              "    </tr>\n",
              "  </tbody>\n",
              "</table>\n",
              "</div>\n",
              "      <button class=\"colab-df-convert\" onclick=\"convertToInteractive('df-d31dfa2d-27ef-4968-a928-3970ac0e22ac')\"\n",
              "              title=\"Convert this dataframe to an interactive table.\"\n",
              "              style=\"display:none;\">\n",
              "        \n",
              "  <svg xmlns=\"http://www.w3.org/2000/svg\" height=\"24px\"viewBox=\"0 0 24 24\"\n",
              "       width=\"24px\">\n",
              "    <path d=\"M0 0h24v24H0V0z\" fill=\"none\"/>\n",
              "    <path d=\"M18.56 5.44l.94 2.06.94-2.06 2.06-.94-2.06-.94-.94-2.06-.94 2.06-2.06.94zm-11 1L8.5 8.5l.94-2.06 2.06-.94-2.06-.94L8.5 2.5l-.94 2.06-2.06.94zm10 10l.94 2.06.94-2.06 2.06-.94-2.06-.94-.94-2.06-.94 2.06-2.06.94z\"/><path d=\"M17.41 7.96l-1.37-1.37c-.4-.4-.92-.59-1.43-.59-.52 0-1.04.2-1.43.59L10.3 9.45l-7.72 7.72c-.78.78-.78 2.05 0 2.83L4 21.41c.39.39.9.59 1.41.59.51 0 1.02-.2 1.41-.59l7.78-7.78 2.81-2.81c.8-.78.8-2.07 0-2.86zM5.41 20L4 18.59l7.72-7.72 1.47 1.35L5.41 20z\"/>\n",
              "  </svg>\n",
              "      </button>\n",
              "      \n",
              "  <style>\n",
              "    .colab-df-container {\n",
              "      display:flex;\n",
              "      flex-wrap:wrap;\n",
              "      gap: 12px;\n",
              "    }\n",
              "\n",
              "    .colab-df-convert {\n",
              "      background-color: #E8F0FE;\n",
              "      border: none;\n",
              "      border-radius: 50%;\n",
              "      cursor: pointer;\n",
              "      display: none;\n",
              "      fill: #1967D2;\n",
              "      height: 32px;\n",
              "      padding: 0 0 0 0;\n",
              "      width: 32px;\n",
              "    }\n",
              "\n",
              "    .colab-df-convert:hover {\n",
              "      background-color: #E2EBFA;\n",
              "      box-shadow: 0px 1px 2px rgba(60, 64, 67, 0.3), 0px 1px 3px 1px rgba(60, 64, 67, 0.15);\n",
              "      fill: #174EA6;\n",
              "    }\n",
              "\n",
              "    [theme=dark] .colab-df-convert {\n",
              "      background-color: #3B4455;\n",
              "      fill: #D2E3FC;\n",
              "    }\n",
              "\n",
              "    [theme=dark] .colab-df-convert:hover {\n",
              "      background-color: #434B5C;\n",
              "      box-shadow: 0px 1px 3px 1px rgba(0, 0, 0, 0.15);\n",
              "      filter: drop-shadow(0px 1px 2px rgba(0, 0, 0, 0.3));\n",
              "      fill: #FFFFFF;\n",
              "    }\n",
              "  </style>\n",
              "\n",
              "      <script>\n",
              "        const buttonEl =\n",
              "          document.querySelector('#df-d31dfa2d-27ef-4968-a928-3970ac0e22ac button.colab-df-convert');\n",
              "        buttonEl.style.display =\n",
              "          google.colab.kernel.accessAllowed ? 'block' : 'none';\n",
              "\n",
              "        async function convertToInteractive(key) {\n",
              "          const element = document.querySelector('#df-d31dfa2d-27ef-4968-a928-3970ac0e22ac');\n",
              "          const dataTable =\n",
              "            await google.colab.kernel.invokeFunction('convertToInteractive',\n",
              "                                                     [key], {});\n",
              "          if (!dataTable) return;\n",
              "\n",
              "          const docLinkHtml = 'Like what you see? Visit the ' +\n",
              "            '<a target=\"_blank\" href=https://colab.research.google.com/notebooks/data_table.ipynb>data table notebook</a>'\n",
              "            + ' to learn more about interactive tables.';\n",
              "          element.innerHTML = '';\n",
              "          dataTable['output_type'] = 'display_data';\n",
              "          await google.colab.output.renderOutput(dataTable, element);\n",
              "          const docLink = document.createElement('div');\n",
              "          docLink.innerHTML = docLinkHtml;\n",
              "          element.appendChild(docLink);\n",
              "        }\n",
              "      </script>\n",
              "    </div>\n",
              "  </div>\n",
              "  "
            ]
          },
          "metadata": {},
          "execution_count": 3
        }
      ]
    },
    {
      "cell_type": "code",
      "source": [
        "df.tail()"
      ],
      "metadata": {
        "colab": {
          "base_uri": "https://localhost:8080/",
          "height": 206
        },
        "id": "i7Uws2d85m2A",
        "outputId": "e9e567a4-10b6-42bb-c690-277a77f48592"
      },
      "execution_count": 4,
      "outputs": [
        {
          "output_type": "execute_result",
          "data": {
            "text/plain": [
              "            Date    Open    High     Low   Close  Adj. Close      Volume\n",
              "1544  2021-02-22  762.64  768.50  710.20  714.50      714.50  37011700.0\n",
              "1545  2021-02-23  662.13  713.61  619.00  698.84      698.84  66397000.0\n",
              "1546  2021-02-24  711.85  745.00  694.17  742.02      742.02  36677100.0\n",
              "1547  2021-02-25  726.15  737.21  670.58  682.22      682.22  38619900.0\n",
              "1548  2021-02-26  700.00  706.70  659.51  675.50      675.50  41011300.0"
            ],
            "text/html": [
              "\n",
              "  <div id=\"df-4ce5bf96-d168-45cd-b11e-4a84c0333462\">\n",
              "    <div class=\"colab-df-container\">\n",
              "      <div>\n",
              "<style scoped>\n",
              "    .dataframe tbody tr th:only-of-type {\n",
              "        vertical-align: middle;\n",
              "    }\n",
              "\n",
              "    .dataframe tbody tr th {\n",
              "        vertical-align: top;\n",
              "    }\n",
              "\n",
              "    .dataframe thead th {\n",
              "        text-align: right;\n",
              "    }\n",
              "</style>\n",
              "<table border=\"1\" class=\"dataframe\">\n",
              "  <thead>\n",
              "    <tr style=\"text-align: right;\">\n",
              "      <th></th>\n",
              "      <th>Date</th>\n",
              "      <th>Open</th>\n",
              "      <th>High</th>\n",
              "      <th>Low</th>\n",
              "      <th>Close</th>\n",
              "      <th>Adj. Close</th>\n",
              "      <th>Volume</th>\n",
              "    </tr>\n",
              "  </thead>\n",
              "  <tbody>\n",
              "    <tr>\n",
              "      <th>1544</th>\n",
              "      <td>2021-02-22</td>\n",
              "      <td>762.64</td>\n",
              "      <td>768.50</td>\n",
              "      <td>710.20</td>\n",
              "      <td>714.50</td>\n",
              "      <td>714.50</td>\n",
              "      <td>37011700.0</td>\n",
              "    </tr>\n",
              "    <tr>\n",
              "      <th>1545</th>\n",
              "      <td>2021-02-23</td>\n",
              "      <td>662.13</td>\n",
              "      <td>713.61</td>\n",
              "      <td>619.00</td>\n",
              "      <td>698.84</td>\n",
              "      <td>698.84</td>\n",
              "      <td>66397000.0</td>\n",
              "    </tr>\n",
              "    <tr>\n",
              "      <th>1546</th>\n",
              "      <td>2021-02-24</td>\n",
              "      <td>711.85</td>\n",
              "      <td>745.00</td>\n",
              "      <td>694.17</td>\n",
              "      <td>742.02</td>\n",
              "      <td>742.02</td>\n",
              "      <td>36677100.0</td>\n",
              "    </tr>\n",
              "    <tr>\n",
              "      <th>1547</th>\n",
              "      <td>2021-02-25</td>\n",
              "      <td>726.15</td>\n",
              "      <td>737.21</td>\n",
              "      <td>670.58</td>\n",
              "      <td>682.22</td>\n",
              "      <td>682.22</td>\n",
              "      <td>38619900.0</td>\n",
              "    </tr>\n",
              "    <tr>\n",
              "      <th>1548</th>\n",
              "      <td>2021-02-26</td>\n",
              "      <td>700.00</td>\n",
              "      <td>706.70</td>\n",
              "      <td>659.51</td>\n",
              "      <td>675.50</td>\n",
              "      <td>675.50</td>\n",
              "      <td>41011300.0</td>\n",
              "    </tr>\n",
              "  </tbody>\n",
              "</table>\n",
              "</div>\n",
              "      <button class=\"colab-df-convert\" onclick=\"convertToInteractive('df-4ce5bf96-d168-45cd-b11e-4a84c0333462')\"\n",
              "              title=\"Convert this dataframe to an interactive table.\"\n",
              "              style=\"display:none;\">\n",
              "        \n",
              "  <svg xmlns=\"http://www.w3.org/2000/svg\" height=\"24px\"viewBox=\"0 0 24 24\"\n",
              "       width=\"24px\">\n",
              "    <path d=\"M0 0h24v24H0V0z\" fill=\"none\"/>\n",
              "    <path d=\"M18.56 5.44l.94 2.06.94-2.06 2.06-.94-2.06-.94-.94-2.06-.94 2.06-2.06.94zm-11 1L8.5 8.5l.94-2.06 2.06-.94-2.06-.94L8.5 2.5l-.94 2.06-2.06.94zm10 10l.94 2.06.94-2.06 2.06-.94-2.06-.94-.94-2.06-.94 2.06-2.06.94z\"/><path d=\"M17.41 7.96l-1.37-1.37c-.4-.4-.92-.59-1.43-.59-.52 0-1.04.2-1.43.59L10.3 9.45l-7.72 7.72c-.78.78-.78 2.05 0 2.83L4 21.41c.39.39.9.59 1.41.59.51 0 1.02-.2 1.41-.59l7.78-7.78 2.81-2.81c.8-.78.8-2.07 0-2.86zM5.41 20L4 18.59l7.72-7.72 1.47 1.35L5.41 20z\"/>\n",
              "  </svg>\n",
              "      </button>\n",
              "      \n",
              "  <style>\n",
              "    .colab-df-container {\n",
              "      display:flex;\n",
              "      flex-wrap:wrap;\n",
              "      gap: 12px;\n",
              "    }\n",
              "\n",
              "    .colab-df-convert {\n",
              "      background-color: #E8F0FE;\n",
              "      border: none;\n",
              "      border-radius: 50%;\n",
              "      cursor: pointer;\n",
              "      display: none;\n",
              "      fill: #1967D2;\n",
              "      height: 32px;\n",
              "      padding: 0 0 0 0;\n",
              "      width: 32px;\n",
              "    }\n",
              "\n",
              "    .colab-df-convert:hover {\n",
              "      background-color: #E2EBFA;\n",
              "      box-shadow: 0px 1px 2px rgba(60, 64, 67, 0.3), 0px 1px 3px 1px rgba(60, 64, 67, 0.15);\n",
              "      fill: #174EA6;\n",
              "    }\n",
              "\n",
              "    [theme=dark] .colab-df-convert {\n",
              "      background-color: #3B4455;\n",
              "      fill: #D2E3FC;\n",
              "    }\n",
              "\n",
              "    [theme=dark] .colab-df-convert:hover {\n",
              "      background-color: #434B5C;\n",
              "      box-shadow: 0px 1px 3px 1px rgba(0, 0, 0, 0.15);\n",
              "      filter: drop-shadow(0px 1px 2px rgba(0, 0, 0, 0.3));\n",
              "      fill: #FFFFFF;\n",
              "    }\n",
              "  </style>\n",
              "\n",
              "      <script>\n",
              "        const buttonEl =\n",
              "          document.querySelector('#df-4ce5bf96-d168-45cd-b11e-4a84c0333462 button.colab-df-convert');\n",
              "        buttonEl.style.display =\n",
              "          google.colab.kernel.accessAllowed ? 'block' : 'none';\n",
              "\n",
              "        async function convertToInteractive(key) {\n",
              "          const element = document.querySelector('#df-4ce5bf96-d168-45cd-b11e-4a84c0333462');\n",
              "          const dataTable =\n",
              "            await google.colab.kernel.invokeFunction('convertToInteractive',\n",
              "                                                     [key], {});\n",
              "          if (!dataTable) return;\n",
              "\n",
              "          const docLinkHtml = 'Like what you see? Visit the ' +\n",
              "            '<a target=\"_blank\" href=https://colab.research.google.com/notebooks/data_table.ipynb>data table notebook</a>'\n",
              "            + ' to learn more about interactive tables.';\n",
              "          element.innerHTML = '';\n",
              "          dataTable['output_type'] = 'display_data';\n",
              "          await google.colab.output.renderOutput(dataTable, element);\n",
              "          const docLink = document.createElement('div');\n",
              "          docLink.innerHTML = docLinkHtml;\n",
              "          element.appendChild(docLink);\n",
              "        }\n",
              "      </script>\n",
              "    </div>\n",
              "  </div>\n",
              "  "
            ]
          },
          "metadata": {},
          "execution_count": 4
        }
      ]
    },
    {
      "cell_type": "code",
      "source": [
        "df.info()"
      ],
      "metadata": {
        "colab": {
          "base_uri": "https://localhost:8080/"
        },
        "id": "ZzeLqnKS2w9Z",
        "outputId": "f472cf90-737e-49d7-a96a-2b73809a3f03"
      },
      "execution_count": 5,
      "outputs": [
        {
          "output_type": "stream",
          "name": "stdout",
          "text": [
            "<class 'pandas.core.frame.DataFrame'>\n",
            "RangeIndex: 1549 entries, 0 to 1548\n",
            "Data columns (total 7 columns):\n",
            " #   Column      Non-Null Count  Dtype  \n",
            "---  ------      --------------  -----  \n",
            " 0   Date        1549 non-null   object \n",
            " 1   Open        1549 non-null   float64\n",
            " 2   High        1549 non-null   float64\n",
            " 3   Low         1549 non-null   float64\n",
            " 4   Close       1549 non-null   float64\n",
            " 5   Adj. Close  1549 non-null   float64\n",
            " 6   Volume      1549 non-null   float64\n",
            "dtypes: float64(6), object(1)\n",
            "memory usage: 84.8+ KB\n"
          ]
        }
      ]
    },
    {
      "cell_type": "code",
      "source": [
        "# Change Dtype of Date column\n",
        "df[\"Date\"] = pd.to_datetime(df[\"Date\"])\n",
        "     "
      ],
      "metadata": {
        "id": "CMFxTyWY2zgY"
      },
      "execution_count": 6,
      "outputs": []
    },
    {
      "cell_type": "code",
      "source": [
        "from statsmodels.tsa.stattools import adfuller"
      ],
      "metadata": {
        "id": "9ghn954_9351"
      },
      "execution_count": 7,
      "outputs": []
    },
    {
      "cell_type": "markdown",
      "source": [
        "**ADF Test**"
      ],
      "metadata": {
        "id": "xzeUH6ipATP_"
      }
    },
    {
      "cell_type": "markdown",
      "source": [
        "\n",
        "\n",
        "\n",
        "\n",
        "\n",
        "ADF (Augmented Dickey-Fuller) Test\n",
        "One of the most widely used statistical tests is the Dickey-Fuller test. It can be used to determine whether or not a series has a unit root, and thus whether or not the series is stationary. This test’s null and alternate hypotheses are:\n",
        "\n",
        "Null Hypothesis: The series has a unit root (value of a =1)\n",
        "\n",
        "Alternate Hypothesis: The series has no unit root.\n",
        "\n",
        "If the null hypothesis is not rejected, the series is said to be non-stationary. The series can be linear or difference stationary as a result of this.\n",
        "\n",
        "The series becomes stationary if both the mean and standard deviation are flat lines (constant mean and constant variance)."
      ],
      "metadata": {
        "id": "zHXZSOJZ_GZN"
      }
    },
    {
      "cell_type": "code",
      "source": [
        "def Test_Stationarity(timeseries):\n",
        "  result = adfuller(timeseries['Adj. Close'], autolag = 'AIC')\n",
        "  print(\"Results of Dickey Fuller Test\")\n",
        "  print(f'Test Statistics: {result[0]}')\n",
        "  print(f'p-value: {result[1]}')\n",
        "  print(f'Number of lags used: {result[2]}')\n",
        "  print(f'Number of observations used: {result[3]}')\n",
        "  for key, value in result[4].items():\n",
        "    print(f'critical value ({key}): {value}')"
      ],
      "metadata": {
        "id": "OUSLrPvO9wTW"
      },
      "execution_count": 8,
      "outputs": []
    },
    {
      "cell_type": "code",
      "source": [
        "Test_Stationarity(df)"
      ],
      "metadata": {
        "colab": {
          "base_uri": "https://localhost:8080/"
        },
        "id": "LDKdoyj82lzz",
        "outputId": "820815af-0512-4158-8117-15ba5b4af2c5"
      },
      "execution_count": 9,
      "outputs": [
        {
          "output_type": "stream",
          "name": "stdout",
          "text": [
            "Results of Dickey Fuller Test\n",
            "Test Statistics: 0.3998006273481117\n",
            "p-value: 0.9814874842817938\n",
            "Number of lags used: 24\n",
            "Number of observations used: 1524\n",
            "critical value (1%): -3.4346481290263013\n",
            "critical value (5%): -2.8634383565975736\n",
            "critical value (10%): -2.567780658251872\n"
          ]
        }
      ]
    },
    {
      "cell_type": "code",
      "source": [
        "df['log Adj. Close'] = np.log(df['Adj. Close'])\n",
        "TSLA_log_moving_avg = df['log Adj. Close'].rolling(12).mean()\n",
        "TSLA_log_std = df['log Adj. Close'].rolling(12).std()\n",
        "\n",
        "plt.figure(figsize = (10, 5))\n",
        "plt.plot(df['Date'], TSLA_log_moving_avg, label = \"Rolling Mean\")\n",
        "plt.plot(df['Date'], TSLA_log_std, label = \"Rolling Std\")\n",
        "plt.xlabel('Time')\n",
        "plt.ylabel('log Adj. Close')\n",
        "plt.legend(loc = 'best')\n",
        "plt.title(\"Rolling Mean and Standard Deviation\")"
      ],
      "metadata": {
        "colab": {
          "base_uri": "https://localhost:8080/",
          "height": 505
        },
        "id": "9XUu3M4O29yu",
        "outputId": "f5f1d8a4-23bc-45c7-ab49-e1b6995d787b"
      },
      "execution_count": 10,
      "outputs": [
        {
          "output_type": "execute_result",
          "data": {
            "text/plain": [
              "Text(0.5, 1.0, 'Rolling Mean and Standard Deviation')"
            ]
          },
          "metadata": {},
          "execution_count": 10
        },
        {
          "output_type": "display_data",
          "data": {
            "text/plain": [
              "<Figure size 1000x500 with 1 Axes>"
            ],
            "image/png": "[encoded data removed]"
          },
          "metadata": {}
        }
      ]
    },
    {
      "cell_type": "markdown",
      "source": [
        "**TRAIN_TEST SPLIT**"
      ],
      "metadata": {
        "id": "3sNBCWf7AN4R"
      }
    },
    {
      "cell_type": "code",
      "source": [
        "\n",
        "TSLA_Train_Data = df[df['Date'] < '2020-10-01']\n",
        "TSLA_Test_Data = df[df['Date'] >= '2020-10-01'].reset_index(drop = True)\n",
        "\n",
        "plt.figure(figsize = (10, 5))\n",
        "plt.plot(TSLA_Train_Data['Date'], TSLA_Train_Data['log Adj. Close'], label = 'Train Data')\n",
        "plt.plot(TSLA_Test_Data['Date'], TSLA_Test_Data['log Adj. Close'], label = 'Test Data')\n",
        "plt.xlabel('Time')\n",
        "plt.ylabel('log Adj. Close')\n",
        "plt.legend(loc = 'best')"
      ],
      "metadata": {
        "colab": {
          "base_uri": "https://localhost:8080/",
          "height": 483
        },
        "id": "ocH6Bxli3J2e",
        "outputId": "de5b3638-5283-4aec-b989-ac6da7c4c1fe"
      },
      "execution_count": 11,
      "outputs": [
        {
          "output_type": "execute_result",
          "data": {
            "text/plain": [
              "<matplotlib.legend.Legend at 0x7f532d2bcc10>"
            ]
          },
          "metadata": {},
          "execution_count": 11
        },
        {
          "output_type": "display_data",
          "data": {
            "text/plain": [
              "<Figure size 1000x500 with 1 Axes>"
            ],
            "image/png": "[encoded data removed]"
          },
          "metadata": {}
        }
      ]
    },
    {
      "cell_type": "markdown",
      "source": [
        "**MODEL BUILDING**"
      ],
      "metadata": {
        "id": "6xLHtrO9AInI"
      }
    },
    {
      "cell_type": "markdown",
      "source": [
        "AUTO-ARIMA- to determine the order of differencing, d, and then fitting models within start p, max p, start q, max q ranges"
      ],
      "metadata": {
        "id": "fYmb5DDH_oHS"
      }
    },
    {
      "cell_type": "markdown",
      "source": [
        " the Auto ARIMA model assigned the values 5, 2, and 2 to, p, d, and q, respectively."
      ],
      "metadata": {
        "id": "XWH6vt5k_5FG"
      }
    },
    {
      "cell_type": "code",
      "source": [
        "!pip install pmdarima\n",
        "from statsmodels.tsa.arima.model import ARIMA\n",
        "from pmdarima.arima import auto_arima"
      ],
      "metadata": {
        "colab": {
          "base_uri": "https://localhost:8080/"
        },
        "id": "GyHvNDxW-JG1",
        "outputId": "baba7c41-ca0f-4400-df4a-5b125f0516c0"
      },
      "execution_count": 13,
      "outputs": [
        {
          "output_type": "stream",
          "name": "stdout",
          "text": [
            "Looking in indexes: https://pypi.org/simple, https://us-python.pkg.dev/colab-wheels/public/simple/\n",
            "Requirement already satisfied: pmdarima in /usr/local/lib/python3.9/dist-packages (2.0.3)\n",
            "Requirement already satisfied: scipy>=1.3.2 in /usr/local/lib/python3.9/dist-packages (from pmdarima) (1.10.1)\n",
            "Requirement already satisfied: scikit-learn>=0.22 in /usr/local/lib/python3.9/dist-packages (from pmdarima) (1.2.2)\n",
            "Requirement already satisfied: Cython!=0.29.18,!=0.29.31,>=0.29 in /usr/local/lib/python3.9/dist-packages (from pmdarima) (0.29.34)\n",
            "Requirement already satisfied: urllib3 in /usr/local/lib/python3.9/dist-packages (from pmdarima) (1.26.15)\n",
            "Requirement already satisfied: numpy>=1.21.2 in /usr/local/lib/python3.9/dist-packages (from pmdarima) (1.22.4)\n",
            "Requirement already satisfied: joblib>=0.11 in /usr/local/lib/python3.9/dist-packages (from pmdarima) (1.2.0)\n",
            "Requirement already satisfied: pandas>=0.19 in /usr/local/lib/python3.9/dist-packages (from pmdarima) (1.5.3)\n",
            "Requirement already satisfied: statsmodels>=0.13.2 in /usr/local/lib/python3.9/dist-packages (from pmdarima) (0.13.5)\n",
            "Requirement already satisfied: setuptools!=50.0.0,>=38.6.0 in /usr/local/lib/python3.9/dist-packages (from pmdarima) (67.6.1)\n",
            "Requirement already satisfied: python-dateutil>=2.8.1 in /usr/local/lib/python3.9/dist-packages (from pandas>=0.19->pmdarima) (2.8.2)\n",
            "Requirement already satisfied: pytz>=2020.1 in /usr/local/lib/python3.9/dist-packages (from pandas>=0.19->pmdarima) (2022.7.1)\n",
            "Requirement already satisfied: threadpoolctl>=2.0.0 in /usr/local/lib/python3.9/dist-packages (from scikit-learn>=0.22->pmdarima) (3.1.0)\n",
            "Requirement already satisfied: packaging>=21.3 in /usr/local/lib/python3.9/dist-packages (from statsmodels>=0.13.2->pmdarima) (23.0)\n",
            "Requirement already satisfied: patsy>=0.5.2 in /usr/local/lib/python3.9/dist-packages (from statsmodels>=0.13.2->pmdarima) (0.5.3)\n",
            "Requirement already satisfied: six in /usr/local/lib/python3.9/dist-packages (from patsy>=0.5.2->statsmodels>=0.13.2->pmdarima) (1.16.0)\n"
          ]
        }
      ]
    },
    {
      "cell_type": "code",
      "source": [
        "TSLA_ARIMA_Model = ARIMA(TSLA_Train_Data['log Adj. Close'], order=(5, 2, 2))\n",
        "TSLA_ARIMA_Model_Fit = TSLA_ARIMA_Model.fit()\n",
        "print(TSLA_ARIMA_Model_Fit.summary())\n"
      ],
      "metadata": {
        "colab": {
          "base_uri": "https://localhost:8080/"
        },
        "id": "Z-wWkatg4ZYv",
        "outputId": "31a487a3-ad1b-4757-d440-9d9bfa7a65b7"
      },
      "execution_count": 14,
      "outputs": [
        {
          "output_type": "stream",
          "name": "stdout",
          "text": [
            "                               SARIMAX Results                                \n",
            "==============================================================================\n",
            "Dep. Variable:         log Adj. Close   No. Observations:                 1447\n",
            "Model:                 ARIMA(5, 2, 2)   Log Likelihood                2810.889\n",
            "Date:                Mon, 17 Apr 2023   AIC                          -5605.778\n",
            "Time:                        16:24:52   BIC                          -5563.571\n",
            "Sample:                             0   HQIC                         -5590.025\n",
            "                               - 1447                                         \n",
            "Covariance Type:                  opg                                         \n",
            "==============================================================================\n",
            "                 coef    std err          z      P>|z|      [0.025      0.975]\n",
            "------------------------------------------------------------------------------\n",
            "ar.L1         -0.8604      0.453     -1.900      0.057      -1.748       0.027\n",
            "ar.L2          0.0428      0.022      1.924      0.054      -0.001       0.086\n",
            "ar.L3          0.0678      0.028      2.452      0.014       0.014       0.122\n",
            "ar.L4         -0.0097      0.032     -0.303      0.762      -0.073       0.053\n",
            "ar.L5         -0.0379      0.022     -1.690      0.091      -0.082       0.006\n",
            "ma.L1         -0.1355      0.451     -0.301      0.764      -1.019       0.748\n",
            "ma.L2         -0.8563      0.449     -1.907      0.057      -1.737       0.024\n",
            "sigma2         0.0012   2.38e-05     50.244      0.000       0.001       0.001\n",
            "===================================================================================\n",
            "Ljung-Box (L1) (Q):                   0.01   Jarque-Bera (JB):              2690.67\n",
            "Prob(Q):                              0.92   Prob(JB):                         0.00\n",
            "Heteroskedasticity (H):               3.41   Skew:                            -0.29\n",
            "Prob(H) (two-sided):                  0.00   Kurtosis:                         9.66\n",
            "===================================================================================\n",
            "\n",
            "Warnings:\n",
            "[1] Covariance matrix calculated using the outer product of gradients (complex-step).\n"
          ]
        },
        {
          "output_type": "stream",
          "name": "stderr",
          "text": [
            "/usr/local/lib/python3.9/dist-packages/statsmodels/base/model.py:604: ConvergenceWarning: Maximum Likelihood optimization failed to converge. Check mle_retvals\n",
            "  warnings.warn(\"Maximum Likelihood optimization failed to \"\n"
          ]
        }
      ]
    },
    {
      "cell_type": "markdown",
      "source": [
        "**Forcasting**"
      ],
      "metadata": {
        "id": "KXoK0QoLADhS"
      }
    },
    {
      "cell_type": "code",
      "source": [
        "TSLA_output = TSLA_ARIMA_Model_Fit.forecast(102, alpha=0.05)\n",
        "TSLA_predictions = np.exp(TSLA_output)\n",
        "plt.figure(figsize=(10, 5))\n",
        "plt.plot(TSLA_Train_Data['Date'], TSLA_Train_Data['Adj. Close'], label = 'Training')\n",
        "plt.plot(TSLA_Test_Data['Date'], TSLA_Test_Data['Adj. Close'], label = 'Testing')\n",
        "plt.plot(TSLA_Test_Data['Date'], TSLA_predictions, label = 'Predictions')\n",
        "plt.xlabel('Time')\n",
        "plt.ylabel('Closing Price')\n",
        "plt.legend()\n",
        "     "
      ],
      "metadata": {
        "colab": {
          "base_uri": "https://localhost:8080/",
          "height": 483
        },
        "id": "bjgCFIrU4Dv1",
        "outputId": "d773cb1d-2875-4776-a15a-c4a8b694589a"
      },
      "execution_count": 16,
      "outputs": [
        {
          "output_type": "execute_result",
          "data": {
            "text/plain": [
              "<matplotlib.legend.Legend at 0x7f5324995910>"
            ]
          },
          "metadata": {},
          "execution_count": 16
        },
        {
          "output_type": "display_data",
          "data": {
            "text/plain": [
              "<Figure size 1000x500 with 1 Axes>"
            ],
            "image/png": "[encoded data removed]"
          },
          "metadata": {}
        }
      ]
    },
    {
      "cell_type": "markdown",
      "source": [
        "**RMSE & MAPE**"
      ],
      "metadata": {
        "id": "E8g_fZVmAvMs"
      }
    },
    {
      "cell_type": "code",
      "source": [
        "import math\n",
        "from sklearn.metrics import mean_squared_error, mean_absolute_error"
      ],
      "metadata": {
        "id": "LyPSeYbV9_vx"
      },
      "execution_count": 17,
      "outputs": []
    },
    {
      "cell_type": "code",
      "source": [
        "rmse = math.sqrt(mean_squared_error(TSLA_Test_Data['Adj. Close'], TSLA_predictions))\n",
        "mape = np.mean(np.abs(TSLA_predictions - TSLA_Test_Data['Adj. Close'])/np.abs(TSLA_Test_Data['Adj. Close']))\n",
        "\n",
        "print(f'RMSE: {rmse}')\n",
        "print(f'MAPE: {mape}')"
      ],
      "metadata": {
        "colab": {
          "base_uri": "https://localhost:8080/"
        },
        "id": "O7kI96ZI4e2t",
        "outputId": "99a27dc4-8408-4ccb-b8de-694f7b918d87"
      },
      "execution_count": 18,
      "outputs": [
        {
          "output_type": "stream",
          "name": "stdout",
          "text": [
            "RMSE: 102.6015612699401\n",
            "MAPE: nan\n"
          ]
        }
      ]
    },
    {
      "cell_type": "markdown",
      "source": [
        "the RMSE value is 102.60, which means that on average, the predicted values are off by about 102.60 from the actual values."
      ],
      "metadata": {
        "id": "1_IHA-m55SkK"
      }
    },
    {
      "cell_type": "markdown",
      "source": [
        "MAPE stands for Mean Absolute Percentage Error, which is another measure of the difference between actual and predicted values. It is calculated by taking the mean of the absolute percentage differences between the actual and predicted values. MAPE is expressed in percentage and a lower value indicates better accuracy of the model."
      ],
      "metadata": {
        "id": "Y_recm9u5W_N"
      }
    }
  ]
}