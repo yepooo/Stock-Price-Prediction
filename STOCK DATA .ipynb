{
 "cells": [
  {
   "cell_type": "code",
   "execution_count": 1,
   "id": "1c4f9f18",
   "metadata": {},
   "outputs": [
    {
     "name": "stdout",
     "output_type": "stream",
     "text": [
      "Requirement already satisfied: yfinance in c:\\users\\user\\documents\\ana\\lib\\site-packages (0.2.14)\n",
      "Requirement already satisfied: numpy>=1.16.5 in c:\\users\\user\\documents\\ana\\lib\\site-packages (from yfinance) (1.21.5)\n",
      "Requirement already satisfied: lxml>=4.9.1 in c:\\users\\user\\documents\\ana\\lib\\site-packages (from yfinance) (4.9.1)\n",
      "Requirement already satisfied: beautifulsoup4>=4.11.1 in c:\\users\\user\\documents\\ana\\lib\\site-packages (from yfinance) (4.11.1)\n",
      "Requirement already satisfied: cryptography>=3.3.2 in c:\\users\\user\\documents\\ana\\lib\\site-packages (from yfinance) (37.0.1)\n",
      "Requirement already satisfied: multitasking>=0.0.7 in c:\\users\\user\\documents\\ana\\lib\\site-packages (from yfinance) (0.0.11)\n",
      "Requirement already satisfied: appdirs>=1.4.4 in c:\\users\\user\\documents\\ana\\lib\\site-packages (from yfinance) (1.4.4)\n",
      "Requirement already satisfied: pytz>=2022.5 in c:\\users\\user\\documents\\ana\\lib\\site-packages (from yfinance) (2023.3)\n",
      "Requirement already satisfied: pandas>=1.3.0 in c:\\users\\user\\documents\\ana\\lib\\site-packages (from yfinance) (1.4.4)\n",
      "Requirement already satisfied: frozendict>=2.3.4 in c:\\users\\user\\documents\\ana\\lib\\site-packages (from yfinance) (2.3.6)\n",
      "Requirement already satisfied: requests>=2.26 in c:\\users\\user\\documents\\ana\\lib\\site-packages (from yfinance) (2.28.1)\n",
      "Requirement already satisfied: html5lib>=1.1 in c:\\users\\user\\documents\\ana\\lib\\site-packages (from yfinance) (1.1)\n",
      "Requirement already satisfied: soupsieve>1.2 in c:\\users\\user\\documents\\ana\\lib\\site-packages (from beautifulsoup4>=4.11.1->yfinance) (2.3.1)\n",
      "Requirement already satisfied: cffi>=1.12 in c:\\users\\user\\documents\\ana\\lib\\site-packages (from cryptography>=3.3.2->yfinance) (1.15.1)\n",
      "Requirement already satisfied: six>=1.9 in c:\\users\\user\\documents\\ana\\lib\\site-packages (from html5lib>=1.1->yfinance) (1.16.0)\n",
      "Requirement already satisfied: webencodings in c:\\users\\user\\documents\\ana\\lib\\site-packages (from html5lib>=1.1->yfinance) (0.5.1)\n",
      "Requirement already satisfied: python-dateutil>=2.8.1 in c:\\users\\user\\documents\\ana\\lib\\site-packages (from pandas>=1.3.0->yfinance) (2.8.2)\n",
      "Requirement already satisfied: idna<4,>=2.5 in c:\\users\\user\\documents\\ana\\lib\\site-packages (from requests>=2.26->yfinance) (3.3)\n",
      "Requirement already satisfied: urllib3<1.27,>=1.21.1 in c:\\users\\user\\documents\\ana\\lib\\site-packages (from requests>=2.26->yfinance) (1.26.11)\n",
      "Requirement already satisfied: certifi>=2017.4.17 in c:\\users\\user\\documents\\ana\\lib\\site-packages (from requests>=2.26->yfinance) (2022.9.14)\n",
      "Requirement already satisfied: charset-normalizer<3,>=2 in c:\\users\\user\\documents\\ana\\lib\\site-packages (from requests>=2.26->yfinance) (2.0.4)\n",
      "Requirement already satisfied: pycparser in c:\\users\\user\\documents\\ana\\lib\\site-packages (from cffi>=1.12->cryptography>=3.3.2->yfinance) (2.21)\n",
      "Note: you may need to restart the kernel to use updated packages.\n"
     ]
    }
   ],
   "source": [
    "pip install yfinance"
   ]
  },
  {
   "cell_type": "code",
   "execution_count": 2,
   "id": "c90d35bb",
   "metadata": {},
   "outputs": [
    {
     "name": "stdout",
     "output_type": "stream",
     "text": [
      "Ticker: AMZN\n",
      "Market Price: 102.06\n",
      "Previous Close Price: 101.1\n"
     ]
    }
   ],
   "source": [
    "import yfinance as yf\n",
    "ticker = yf.Ticker('AMZN').info\n",
    "market_price = ticker['regularMarketPrice']\n",
    "previous_close_price = ticker['regularMarketPreviousClose']\n",
    "print('Ticker: AMZN')\n",
    "print('Market Price:', market_price)\n",
    "print('Previous Close Price:', previous_close_price)"
   ]
  },
  {
   "cell_type": "code",
   "execution_count": 3,
   "id": "d46cb639",
   "metadata": {},
   "outputs": [
    {
     "name": "stdout",
     "output_type": "stream",
     "text": [
      "dict_keys(['symbol', 'twoHundredDayAverageChangePercent', 'averageAnalystRating', 'fiftyTwoWeekLowChangePercent', 'language', 'earningsTimestampEnd', 'regularMarketDayRange', 'epsForward', 'regularMarketDayHigh', 'twoHundredDayAverageChange', 'askSize', 'twoHundredDayAverage', 'bookValue', 'fiftyTwoWeekHighChange', 'marketCap', 'fiftyTwoWeekRange', 'fiftyDayAverageChange', 'averageDailyVolume3Month', 'firstTradeDateMilliseconds', 'exchangeDataDelayedBy', 'trailingAnnualDividendRate', 'fiftyTwoWeekLow', 'regularMarketVolume', 'market', 'postMarketPrice', 'quoteSourceName', 'messageBoardId', 'priceHint', 'regularMarketDayLow', 'sourceInterval', 'exchange', 'shortName', 'region', 'fiftyDayAverageChangePercent', 'fullExchangeName', 'earningsTimestampStart', 'financialCurrency', 'displayName', 'gmtOffSetMilliseconds', 'regularMarketOpen', 'regularMarketTime', 'regularMarketChangePercent', 'quoteType', 'trailingAnnualDividendYield', 'averageDailyVolume10Day', 'fiftyTwoWeekLowChange', 'fiftyTwoWeekHighChangePercent', 'typeDisp', 'tradeable', 'postMarketTime', 'currency', 'sharesOutstanding', 'fiftyTwoWeekHigh', 'regularMarketPreviousClose', 'postMarketChangePercent', 'exchangeTimezoneName', 'bidSize', 'regularMarketChange', 'priceEpsCurrentYear', 'cryptoTradeable', 'fiftyDayAverage', 'exchangeTimezoneShortName', 'epsCurrentYear', 'marketState', 'regularMarketPrice', 'customPriceAlertConfidence', 'forwardPE', 'postMarketChange', 'earningsTimestamp', 'ask', 'epsTrailingTwelveMonths', 'bid', 'priceToBook', 'triggerable', 'longName', 'trailingPegRatio'])\n"
     ]
    }
   ],
   "source": [
    "import yfinance as yf\n",
    "ticker = yf.Ticker('AMZN').info\n",
    "print(ticker.keys())"
   ]
  },
  {
   "cell_type": "code",
   "execution_count": 4,
   "id": "8d3a0f62",
   "metadata": {},
   "outputs": [
    {
     "name": "stdout",
     "output_type": "stream",
     "text": [
      "[*********************100%***********************]  1 of 1 completed\n",
      "                 Open       High        Low      Close  Adj Close    Volume\n",
      "Date                                                                       \n",
      "2022-12-23  83.250000  85.779999  82.930000  85.250000  85.250000  57433700\n",
      "2022-12-27  84.970001  85.349998  83.000000  83.040001  83.040001  57284000\n",
      "2022-12-28  82.800003  83.480003  81.690002  81.820000  81.820000  58228600\n",
      "2022-12-29  82.870003  84.550003  82.550003  84.180000  84.180000  54995900\n",
      "2022-12-30  83.120003  84.050003  82.470001  84.000000  84.000000  62401200\n"
     ]
    }
   ],
   "source": [
    "# Importing the yfinance package\n",
    "import yfinance as yf\n",
    "start_date = '2018-01-01'\n",
    "end_date = '2023-01-01'\n",
    "ticker = 'AMZN'\n",
    "data = yf.download(ticker, start_date, end_date)\n",
    "print(data.tail())"
   ]
  },
  {
   "cell_type": "code",
   "execution_count": 5,
   "id": "f5dee6d7",
   "metadata": {},
   "outputs": [
    {
     "name": "stdout",
     "output_type": "stream",
     "text": [
      "[*********************100%***********************]  7 of 7 completed\n",
      "             Adj Close                                               \\\n",
      "                  AAPL       AMZN        DIS      GOOGL        MSFT   \n",
      "Date                                                                  \n",
      "2022-12-23  131.658981  85.250000  88.010002  89.230003  238.133545   \n",
      "2022-12-27  129.831772  83.040001  86.370003  87.389999  236.367981   \n",
      "2022-12-28  125.847855  81.820000  84.169998  86.019997  233.944031   \n",
      "2022-12-29  129.412415  84.180000  87.180000  88.449997  240.407837   \n",
      "2022-12-30  129.731918  84.000000  86.879997  88.230003  239.220825   \n",
      "\n",
      "                                         Close                        ...  \\\n",
      "                  NFLX        TSLA        AAPL       AMZN        DIS  ...   \n",
      "Date                                                                  ...   \n",
      "2022-12-23  294.959991  123.150002  131.860001  85.250000  88.010002  ...   \n",
      "2022-12-27  284.170013  109.099998  130.029999  83.040001  86.370003  ...   \n",
      "2022-12-28  276.880005  112.709999  126.040001  81.820000  84.169998  ...   \n",
      "2022-12-29  291.119995  121.820000  129.610001  84.180000  87.180000  ...   \n",
      "2022-12-30  294.880005  123.180000  129.929993  84.000000  86.879997  ...   \n",
      "\n",
      "                  Open                            Volume                      \\\n",
      "                  MSFT        NFLX        TSLA      AAPL      AMZN       DIS   \n",
      "Date                                                                           \n",
      "2022-12-23  236.110001  296.179993  126.370003  63814900  57433700  11171600   \n",
      "2022-12-27  238.699997  293.190002  117.500000  69007800  57284000  11561400   \n",
      "2022-12-28  236.889999  281.920013  110.349998  85438400  58228600  12399500   \n",
      "2022-12-29  235.649994  283.179993  120.389999  75703700  54995900  13045100   \n",
      "2022-12-30  238.210007  285.529999  119.949997  77034200  62401200  23231000   \n",
      "\n",
      "                                                    \n",
      "               GOOGL      MSFT     NFLX       TSLA  \n",
      "Date                                                \n",
      "2022-12-23  23003000  21207000  4251100  166989700  \n",
      "2022-12-27  20097300  16688600  5778100  208643400  \n",
      "2022-12-28  19523200  17457100  5964400  221070500  \n",
      "2022-12-29  23333500  19770700  9588500  221923300  \n",
      "2022-12-30  23986300  21938500  7566900  157777300  \n",
      "\n",
      "[5 rows x 42 columns]\n"
     ]
    }
   ],
   "source": [
    "import yfinance as yf\n",
    "start_date = '2018-01-01'\n",
    "end_date = '2023-01-01'\n",
    "ticker = 'GOOGL MSFT TSLA AAPL AMZN NFLX DIS'\n",
    "data = yf.download(ticker, start_date, end_date)\n",
    "print(data.tail())"
   ]
  },
  {
   "cell_type": "code",
   "execution_count": 6,
   "id": "48fd4779",
   "metadata": {},
   "outputs": [
    {
     "name": "stdout",
     "output_type": "stream",
     "text": [
      "[*********************100%***********************]  1 of 1 completed\n",
      "        Date       Open       High        Low      Close  Adj Close    Volume\n",
      "0 2018-01-02  58.599998  59.500000  58.525501  59.450500  59.450500  53890000\n",
      "1 2018-01-03  59.415001  60.274502  59.415001  60.209999  60.209999  62176000\n",
      "2 2018-01-04  60.250000  60.793499  60.233002  60.479500  60.479500  60442000\n",
      "3 2018-01-05  60.875500  61.457001  60.500000  61.457001  61.457001  70894000\n",
      "4 2018-01-08  61.799999  62.653999  61.601501  62.343498  62.343498  85590000\n"
     ]
    }
   ],
   "source": [
    "import yfinance as yf\n",
    "start_date = '2018-01-01'\n",
    "end_date = '2023-01-01'\n",
    "ticker = 'AMZN'\n",
    "data = yf.download(ticker, start_date, end_date)\n",
    "data[\"Date\"] = data.index\n",
    "data = data[[\"Date\", \"Open\", \"High\", \"Low\", \"Close\", \"Adj Close\", \"Volume\"]]\n",
    "data.reset_index(drop=True, inplace=True)\n",
    "print(data.head())"
   ]
  },
  {
   "cell_type": "code",
   "execution_count": 7,
   "id": "3e628be2",
   "metadata": {},
   "outputs": [
    {
     "name": "stdout",
     "output_type": "stream",
     "text": [
      "[*********************100%***********************]  1 of 1 completed\n",
      "                 Open       High        Low      Close  Adj Close    Volume\n",
      "Date                                                                       \n",
      "2022-12-23  83.250000  85.779999  82.930000  85.250000  85.250000  57433700\n",
      "2022-12-27  84.970001  85.349998  83.000000  83.040001  83.040001  57284000\n",
      "2022-12-28  82.800003  83.480003  81.690002  81.820000  81.820000  58228600\n",
      "2022-12-29  82.870003  84.550003  82.550003  84.180000  84.180000  54995900\n",
      "2022-12-30  83.120003  84.050003  82.470001  84.000000  84.000000  62401200\n"
     ]
    }
   ],
   "source": [
    "import yfinance as yf\n",
    "start_date = '2018-01-01'\n",
    "end_date = '2023-01-01'\n",
    "ticker = 'AMZN'\n",
    "data = yf.download(ticker, start_date, end_date)\n",
    "print(data.tail())\n",
    "\n",
    "# Export data to a CSV file\n",
    "data.to_csv(\"AMZN.csv\")"
   ]
  }
 ],
 "metadata": {
  "kernelspec": {
   "display_name": "Python 3 (ipykernel)",
   "language": "python",
   "name": "python3"
  },
  "language_info": {
   "codemirror_mode": {
    "name": "ipython",
    "version": 3
   },
   "file_extension": ".py",
   "mimetype": "text/x-python",
   "name": "python",
   "nbconvert_exporter": "python",
   "pygments_lexer": "ipython3",
   "version": "3.9.13"
  }
 },
 "nbformat": 4,
 "nbformat_minor": 5
}
